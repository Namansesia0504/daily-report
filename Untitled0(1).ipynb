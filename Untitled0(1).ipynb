{
  "nbformat": 4,
  "nbformat_minor": 0,
  "metadata": {
    "colab": {
      "provenance": []
    },
    "kernelspec": {
      "name": "python3",
      "display_name": "Python 3"
    },
    "language_info": {
      "name": "python"
    }
  },
  "cells": [
    {
      "cell_type": "code",
      "execution_count": 1,
      "metadata": {
        "colab": {
          "base_uri": "https://localhost:8080/"
        },
        "id": "na_npzss3an3",
        "outputId": "7771e22b-227b-496b-c780-e85474cabd8d"
      },
      "outputs": [
        {
          "output_type": "stream",
          "name": "stdout",
          "text": [
            "Enter number of rows: 6\n",
            "* \n",
            "* * \n",
            "* * * \n",
            "* * * * \n",
            "* * * * * \n",
            "* * * * * * \n"
          ]
        }
      ],
      "source": [
        "\n",
        "rows = int(input(\"Enter number of rows: \"))\n",
        "for i in range(rows):\n",
        "    for j in range(i+1):\n",
        "        print(\"* \", end=\"\")\n",
        "    print()"
      ]
    },
    {
      "cell_type": "code",
      "source": [
        "rows = 5\n",
        "for i in range(1, rows + 1):\n",
        "    for j in range(1, i + 1):\n",
        "        print(j, end=' ')\n",
        "    print('')\n",
        ""
      ],
      "metadata": {
        "colab": {
          "base_uri": "https://localhost:8080/"
        },
        "id": "hMcNHOSg3s2u",
        "outputId": "28d8e6bf-526c-4c62-b55d-2036a970a1a8"
      },
      "execution_count": 2,
      "outputs": [
        {
          "output_type": "stream",
          "name": "stdout",
          "text": [
            "1 \n",
            "1 2 \n",
            "1 2 3 \n",
            "1 2 3 4 \n",
            "1 2 3 4 5 \n"
          ]
        }
      ]
    },
    {
      "cell_type": "code",
      "source": [
        "i = 1\n",
        "while i<=10:\n",
        "    print(i)\n",
        "    i += 1"
      ],
      "metadata": {
        "colab": {
          "base_uri": "https://localhost:8080/"
        },
        "id": "W7WVb0c836rr",
        "outputId": "30016bdf-5564-4776-e3b9-8958cc9d1154"
      },
      "execution_count": 5,
      "outputs": [
        {
          "output_type": "stream",
          "name": "stdout",
          "text": [
            "1\n",
            "2\n",
            "3\n",
            "4\n",
            "5\n",
            "6\n",
            "7\n",
            "8\n",
            "9\n",
            "10\n"
          ]
        }
      ]
    },
    {
      "cell_type": "code",
      "source": [
        "rows = int(input(\"Enter number of rows: \"))\n",
        "for i in range(1,rows+1):\n",
        "    for j in range(1,rows-i+1):\n",
        "        print(\" \", end=\"\")\n",
        "        for j in range(1, 2 * i):\n",
        "          print(\"*\", end=\"\")\n",
        "\n",
        "        print()\n",
        "\n",
        ""
      ],
      "metadata": {
        "colab": {
          "base_uri": "https://localhost:8080/"
        },
        "id": "XW5sbVHH5Xhi",
        "outputId": "25203ed3-c86a-431d-e613-96a1f1d777cf"
      },
      "execution_count": 71,
      "outputs": [
        {
          "output_type": "stream",
          "name": "stdout",
          "text": [
            "Enter number of rows: 8\n",
            " *\n",
            " *\n",
            " *\n",
            " *\n",
            " *\n",
            " *\n",
            " *\n",
            " ***\n",
            " ***\n",
            " ***\n",
            " ***\n",
            " ***\n",
            " ***\n",
            " *****\n",
            " *****\n",
            " *****\n",
            " *****\n",
            " *****\n",
            " *******\n",
            " *******\n",
            " *******\n",
            " *******\n",
            " *********\n",
            " *********\n",
            " *********\n",
            " ***********\n",
            " ***********\n",
            " *************\n"
          ]
        }
      ]
    },
    {
      "cell_type": "code",
      "source": [
        "N = int(input(\"Enter number of rows: \"))\n",
        "\n",
        "\n",
        "for i in range(1, N + 1):\n",
        "\n",
        "    for j in range(1, N - i + 1):\n",
        "        print(\"  \", end=\"\")\n",
        "\n",
        "\n",
        "    for j in range(1, 2 * i):\n",
        "        print(\"*\", end=\"\")\n",
        "\n",
        "    print()"
      ],
      "metadata": {
        "colab": {
          "base_uri": "https://localhost:8080/"
        },
        "id": "15Jn-vuZ-nvH",
        "outputId": "9aa3006d-017e-4170-c8d0-9098b622260b"
      },
      "execution_count": 31,
      "outputs": [
        {
          "output_type": "stream",
          "name": "stdout",
          "text": [
            "Enter number of rows: 7\n",
            "            *\n",
            "          ***\n",
            "        *****\n",
            "      *******\n",
            "    *********\n",
            "  ***********\n",
            "*************\n"
          ]
        }
      ]
    },
    {
      "cell_type": "code",
      "source": [
        "n = 2\n",
        "for i in range (1,11,1):\n",
        "  p = n*i\n",
        "  print(p)\n"
      ],
      "metadata": {
        "colab": {
          "base_uri": "https://localhost:8080/"
        },
        "id": "uFubbWcp_J4P",
        "outputId": "7e27134b-c195-41e5-d25d-e0b8802c494c"
      },
      "execution_count": 20,
      "outputs": [
        {
          "output_type": "stream",
          "name": "stdout",
          "text": [
            "2\n",
            "4\n",
            "6\n",
            "8\n",
            "10\n",
            "12\n",
            "14\n",
            "16\n",
            "18\n",
            "20\n"
          ]
        }
      ]
    },
    {
      "source": [
        "n = [12, 75, 150, 180, 145, 525, 50]\n",
        "for elements in n :\n",
        "\n",
        "  if  elements % 5 == 0 :\n",
        "    print(elements)"
      ],
      "cell_type": "code",
      "metadata": {
        "colab": {
          "base_uri": "https://localhost:8080/"
        },
        "id": "LlQyrnN5ImV7",
        "outputId": "5617f293-ab57-4746-d155-b83cd3f2f6dd"
      },
      "execution_count": 30,
      "outputs": [
        {
          "output_type": "stream",
          "name": "stdout",
          "text": [
            "75\n",
            "150\n",
            "180\n",
            "145\n",
            "525\n",
            "50\n"
          ]
        }
      ]
    },
    {
      "cell_type": "markdown",
      "source": [],
      "metadata": {
        "id": "A-xaM-ftIile"
      }
    },
    {
      "cell_type": "code",
      "source": [
        "\n",
        "#factorial of any number\n",
        "num = int(input(\"Enter a number \"))\n",
        "factorial = 1\n",
        "if num<0 :\n",
        "  print(\"factorial of negative number do not exist \")\n",
        "elif num == 0 :\n",
        "  print(\"factoril of 0 is 1\")\n",
        "else:\n",
        "  for i in range(1,num+1):\n",
        "    factorial = factorial*i\n",
        "  print(\"the factorial of\",num,\"is\",factorial)\n",
        ""
      ],
      "metadata": {
        "colab": {
          "base_uri": "https://localhost:8080/"
        },
        "id": "gTSarXc4I3Qj",
        "outputId": "98659ef8-7ef8-4802-8969-7ee5f9fa9fa9"
      },
      "execution_count": 61,
      "outputs": [
        {
          "output_type": "stream",
          "name": "stdout",
          "text": [
            "Enter a number 7\n",
            "the factorial of 7 is 5040\n"
          ]
        }
      ]
    },
    {
      "cell_type": "code",
      "source": [
        "num = int(input(\"Enter a number \"))\n",
        "for i in range(0, num):\n",
        "    for j in range(0, i + 1):\n",
        "        print(\"*\", end=' ')\n",
        "    print(\"\")\n",
        "\n",
        "for i in range(num, 0, -1):\n",
        "    for j in range(0, i - 1):\n",
        "        print(\"*\", end=' ')\n",
        "    print(\"\")"
      ],
      "metadata": {
        "colab": {
          "base_uri": "https://localhost:8080/"
        },
        "id": "oXzAxCvnlR6b",
        "outputId": "cbf9429d-d441-43b8-bf97-139997dfbb14"
      },
      "execution_count": 64,
      "outputs": [
        {
          "output_type": "stream",
          "name": "stdout",
          "text": [
            "Enter a number 10\n",
            "* \n",
            "* * \n",
            "* * * \n",
            "* * * * \n",
            "* * * * * \n",
            "* * * * * * \n",
            "* * * * * * * \n",
            "* * * * * * * * \n",
            "* * * * * * * * * \n",
            "* * * * * * * * * * \n",
            "* * * * * * * * * \n",
            "* * * * * * * * \n",
            "* * * * * * * \n",
            "* * * * * * \n",
            "* * * * * \n",
            "* * * * \n",
            "* * * \n",
            "* * \n",
            "* \n",
            "\n"
          ]
        }
      ]
    },
    {
      "cell_type": "code",
      "source": [
        "n = 10\n",
        "\n",
        "start = 4\n",
        "sum_seq = 0\n",
        "for i in range(0, n):\n",
        "    print(start, end=\"+\")\n",
        "    sum_seq += start\n",
        "    start = start * 10 + 4\n",
        "print( sum_seq)"
      ],
      "metadata": {
        "colab": {
          "base_uri": "https://localhost:8080/"
        },
        "id": "44QjrkED3-m6",
        "outputId": "987ec607-1201-4b0e-d0b0-01a2d9b5b708"
      },
      "execution_count": 67,
      "outputs": [
        {
          "output_type": "stream",
          "name": "stdout",
          "text": [
            "4+44+444+4444+44444+444444+4444444+44444444+444444444+4444444444+4938271600\n"
          ]
        }
      ]
    },
    {
      "cell_type": "code",
      "source": [
        "n = 10\n",
        "k = 10\n",
        "for i in range(0,n+1):\n",
        "    for j in range(k-i,0,-1):\n",
        "        print(j,end=' ')\n",
        "    print()"
      ],
      "metadata": {
        "colab": {
          "base_uri": "https://localhost:8080/"
        },
        "id": "Ac8b9HG_4olL",
        "outputId": "0e5fa247-6097-49f6-dcbe-547595fd0d60"
      },
      "execution_count": 69,
      "outputs": [
        {
          "output_type": "stream",
          "name": "stdout",
          "text": [
            "10 9 8 7 6 5 4 3 2 1 \n",
            "9 8 7 6 5 4 3 2 1 \n",
            "8 7 6 5 4 3 2 1 \n",
            "7 6 5 4 3 2 1 \n",
            "6 5 4 3 2 1 \n",
            "5 4 3 2 1 \n",
            "4 3 2 1 \n",
            "3 2 1 \n",
            "2 1 \n",
            "1 \n",
            "\n"
          ]
        }
      ]
    },
    {
      "cell_type": "code",
      "source": [],
      "metadata": {
        "id": "Zbrl1ljP5N5Q"
      },
      "execution_count": null,
      "outputs": []
    }
  ]
}