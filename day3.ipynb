{
  "nbformat": 4,
  "nbformat_minor": 0,
  "metadata": {
    "colab": {
      "provenance": []
    },
    "kernelspec": {
      "name": "python3",
      "display_name": "Python 3"
    },
    "language_info": {
      "name": "python"
    }
  },
  "cells": [
    {
      "source": [
        "#fibonacci Series\n",
        "i,j=0,1\n",
        "for k in range(10):\n",
        "\n",
        "    print(i)\n",
        "    i,j=j,i+j"
      ],
      "cell_type": "code",
      "metadata": {
        "colab": {
          "base_uri": "https://localhost:8080/"
        },
        "id": "u8oWGHA02AK3",
        "outputId": "9a27b701-7686-4787-c61b-4f523f319d21"
      },
      "execution_count": 105,
      "outputs": [
        {
          "output_type": "stream",
          "name": "stdout",
          "text": [
            "0\n",
            "1\n",
            "1\n",
            "2\n",
            "3\n",
            "5\n",
            "8\n",
            "13\n",
            "21\n",
            "34\n"
          ]
        }
      ]
    },
    {
      "cell_type": "code",
      "source": [
        "#printing prime numbers in given range\n",
        "\n",
        "start = 100\n",
        "end = 150\n",
        "print(\"Prime numbers between\", start, \"and\", end, \"are:\")\n",
        "\n",
        "for j in range(start, end + 1):\n",
        "\n",
        "    if j > 1:\n",
        "        for i in range(2, j):\n",
        "\n",
        "            if (j % i) == 0:\n",
        "\n",
        "                break\n",
        "        else:\n",
        "            print(j)"
      ],
      "metadata": {
        "colab": {
          "base_uri": "https://localhost:8080/"
        },
        "id": "wG_nv16P6Zqw",
        "outputId": "f69ba40c-d248-4d18-aa8e-7534b3f35fbd"
      },
      "execution_count": 106,
      "outputs": [
        {
          "output_type": "stream",
          "name": "stdout",
          "text": [
            "Prime numbers between 100 and 150 are:\n",
            "101\n",
            "103\n",
            "107\n",
            "109\n",
            "113\n",
            "127\n",
            "131\n",
            "137\n",
            "139\n",
            "149\n"
          ]
        }
      ]
    },
    {
      "cell_type": "code",
      "source": [
        "# table of any number\n",
        "num=int(input(\"Enter any number \"))\n",
        "for i in range (1,21):\n",
        "  print(num*i)\n",
        "\n"
      ],
      "metadata": {
        "colab": {
          "base_uri": "https://localhost:8080/"
        },
        "id": "G8Nyc08n7GIl",
        "outputId": "37291463-e3eb-40c9-a3c9-a28336204475"
      },
      "execution_count": 107,
      "outputs": [
        {
          "output_type": "stream",
          "name": "stdout",
          "text": [
            "Enter any number 4\n",
            "4\n",
            "8\n",
            "12\n",
            "16\n",
            "20\n",
            "24\n",
            "28\n",
            "32\n",
            "36\n",
            "40\n",
            "44\n",
            "48\n",
            "52\n",
            "56\n",
            "60\n",
            "64\n",
            "68\n",
            "72\n",
            "76\n",
            "80\n"
          ]
        }
      ]
    },
    {
      "cell_type": "code",
      "source": [
        "#Data structures"
      ],
      "metadata": {
        "id": "U60Se9V9-CaN"
      },
      "execution_count": 108,
      "outputs": []
    },
    {
      "cell_type": "code",
      "source": [
        "#list\n",
        "mylist=[\"Naman\",\"sehaj\",'Sharma']\n",
        "\n",
        "print(me)\n",
        "print(len(me))\n",
        "print(type(me))\n",
        "print(mylist)\n",
        "print(len(mylist))\n",
        "print(type(mylist))\n",
        "print(mylist[1])\n",
        "print(me[0])\n",
        "print(mylist[-2])\n",
        "print(me[-1])\n",
        "print(me[0:])\n",
        "print(me[:2])\n",
        "print(mylist[:4])"
      ],
      "metadata": {
        "colab": {
          "base_uri": "https://localhost:8080/"
        },
        "id": "QR9xI3yz-gpV",
        "outputId": "07006d81-1d63-4b35-a1fd-9efffd0e7b49"
      },
      "execution_count": 123,
      "outputs": [
        {
          "output_type": "stream",
          "name": "stdout",
          "text": [
            "['Hello', 'hey']\n",
            "2\n",
            "<class 'list'>\n",
            "['Naman', 'sehaj', 'Sharma']\n",
            "3\n",
            "<class 'list'>\n",
            "sehaj\n",
            "Hello\n",
            "sehaj\n",
            "hey\n",
            "['Hello', 'hey']\n",
            "['Hello', 'hey']\n",
            "['Naman', 'sehaj', 'Sharma']\n"
          ]
        }
      ]
    },
    {
      "cell_type": "code",
      "source": [
        "#append function used to add element in a list\n",
        "thislist = [\"apple\", \"banana\", \"cherry\"]\n",
        "\"\"\"thislist.append(\"orange\")\n",
        "print(thislist)\"\"\"\n",
        "#insert\n",
        "thislist.insert(0, \"orange\")\n",
        "print(thislist)\n",
        "#extend\n",
        "thislist = [\"apple\", \"banana\", \"cherry\"]\n",
        "tropical = [\"mango\", \"pineapple\", \"papaya\"]\n",
        "thislist.extend(tropical)\n",
        "print(thislist)\n",
        "#remove\n",
        "thislist.remove(\"pineapple\")\n",
        "print(thislist)\n",
        "#pop\n",
        "thislist.pop(2)\n",
        "print(thislist)\n",
        "#del\n",
        "del thislist[0]\n",
        "print(thislist)\n",
        "#clear\n",
        "thislist.clear()\n",
        "print(thislist)\n"
      ],
      "metadata": {
        "colab": {
          "base_uri": "https://localhost:8080/"
        },
        "id": "XYUuKDbTD4AA",
        "outputId": "c03bf391-5f60-4c28-ca67-fce268a82da7"
      },
      "execution_count": 111,
      "outputs": [
        {
          "output_type": "stream",
          "name": "stdout",
          "text": [
            "['orange', 'apple', 'banana', 'cherry']\n",
            "['apple', 'banana', 'cherry', 'mango', 'pineapple', 'papaya']\n",
            "['apple', 'banana', 'cherry', 'mango', 'papaya']\n",
            "['apple', 'banana', 'mango', 'papaya']\n",
            "['banana', 'mango', 'papaya']\n",
            "[]\n"
          ]
        }
      ]
    },
    {
      "cell_type": "code",
      "source": [
        " thislist = [\"apple\", \"banana\", \"cherry\"]\n",
        "i = 0\n",
        "while i < len(thislist):\n",
        "  print(thislist[i])\n",
        "  i = i + 1\n",
        "\n",
        ""
      ],
      "metadata": {
        "colab": {
          "base_uri": "https://localhost:8080/"
        },
        "id": "7q-2PKnPQdsN",
        "outputId": "3dab0c43-8400-457e-d961-43b008a9aa99"
      },
      "execution_count": 112,
      "outputs": [
        {
          "output_type": "stream",
          "name": "stdout",
          "text": [
            "apple\n",
            "banana\n",
            "cherry\n"
          ]
        }
      ]
    },
    {
      "cell_type": "code",
      "source": [
        "# Reverse a list in Python\n",
        "list = [100,23,2354,45]\n",
        "\n",
        "list.reverse()\n",
        "print(list)"
      ],
      "metadata": {
        "colab": {
          "base_uri": "https://localhost:8080/"
        },
        "id": "dMCqAgYJQm7S",
        "outputId": "805e8116-01ed-4777-99f9-af3daf97ec95"
      },
      "execution_count": 113,
      "outputs": [
        {
          "output_type": "stream",
          "name": "stdout",
          "text": [
            "[45, 2354, 23, 100]\n"
          ]
        }
      ]
    },
    {
      "cell_type": "code",
      "source": [
        "list1 = [10, 20, 30, 40]\n",
        "list2 = [100, 200, 300, 400]\n",
        "\n",
        "for x, y in zip(list1, list2[::-1]): #zip function is used aggregate 2 or more lists into a tuple\n",
        "    print(x, y)"
      ],
      "metadata": {
        "colab": {
          "base_uri": "https://localhost:8080/"
        },
        "id": "25PqpDWOpHy_",
        "outputId": "d9accc52-34b8-4e01-f3e2-0567551f643e"
      },
      "execution_count": 114,
      "outputs": [
        {
          "output_type": "stream",
          "name": "stdout",
          "text": [
            "10 400\n",
            "20 300\n",
            "30 200\n",
            "40 100\n"
          ]
        }
      ]
    },
    {
      "cell_type": "code",
      "source": [
        "#conversion of tupple to list\n",
        "fruits = (\"apple\", \"banana\", \"cherry\", \"strawberry\", \"raspberry\")\n",
        "\n",
        "(green, yellow, *red) = fruits\n",
        "\n",
        "print(green)\n",
        "print(yellow)\n",
        "print(red)"
      ],
      "metadata": {
        "colab": {
          "base_uri": "https://localhost:8080/"
        },
        "id": "nRBc3bjf7xWb",
        "outputId": "05a8fe84-2025-4007-8d1e-d04425fed3a3"
      },
      "execution_count": 115,
      "outputs": [
        {
          "output_type": "stream",
          "name": "stdout",
          "text": [
            "apple\n",
            "banana\n",
            "['cherry', 'strawberry', 'raspberry']\n"
          ]
        }
      ]
    },
    {
      "cell_type": "code",
      "source": [
        "#find even and odd questions in a list\n",
        "numbers = [10, 15, 20, 25, 30, 35, 40, 45, 50]\n",
        "even_numbers = []\n",
        "odd_numbers = []\n",
        "\n",
        "for num in numbers:\n",
        "    if num % 2 == 0:\n",
        "        even_numbers.append(num)\n",
        "    else:\n",
        "        odd_numbers.append(num)\n",
        "print(\"Even Numbers:\", even_numbers)\n",
        "print(\"Odd Numbers:\", odd_numbers)\n",
        "\n",
        "\n",
        "\n",
        "\n"
      ],
      "metadata": {
        "colab": {
          "base_uri": "https://localhost:8080/"
        },
        "id": "L7S2BLU39HcB",
        "outputId": "e9408e33-5797-41c8-dad4-7e48ca118c45"
      },
      "execution_count": 121,
      "outputs": [
        {
          "output_type": "stream",
          "name": "stdout",
          "text": [
            "Even Numbers: [10, 20, 30, 40, 50]\n",
            "Odd Numbers: [15, 25, 35, 45]\n"
          ]
        }
      ]
    },
    {
      "cell_type": "code",
      "source": [
        "#Remove duplicate elements in a list\n",
        "num = [10, 15, 20, 25,25,10, 30, 35, 40, 45, 50]\n",
        "unique=[]\n",
        "\n",
        "for i in num:\n",
        "    if i not in unique:\n",
        "        unique.append(i)\n",
        "        print(unique)\n",
        "\n",
        "\n",
        ""
      ],
      "metadata": {
        "colab": {
          "base_uri": "https://localhost:8080/"
        },
        "id": "l90-DgmKBhd9",
        "outputId": "c573c397-cd78-42c0-adf9-b1e169d1ae0e"
      },
      "execution_count": 132,
      "outputs": [
        {
          "output_type": "stream",
          "name": "stdout",
          "text": [
            "[10]\n",
            "[10, 15]\n",
            "[10, 15, 20]\n",
            "[10, 15, 20, 25]\n",
            "[10, 15, 20, 25, 30]\n",
            "[10, 15, 20, 25, 30, 35]\n",
            "[10, 15, 20, 25, 30, 35, 40]\n",
            "[10, 15, 20, 25, 30, 35, 40, 45]\n",
            "[10, 15, 20, 25, 30, 35, 40, 45, 50]\n"
          ]
        }
      ]
    },
    {
      "cell_type": "code",
      "source": [
        "#Find second largest element of a list\n",
        "list = [10, 15, 20, 25, 30, 35, 40, 45, 50]\n",
        "list.sort()\n",
        "print(list[-2])"
      ],
      "metadata": {
        "colab": {
          "base_uri": "https://localhost:8080/"
        },
        "id": "2SFmMA4YEQbZ",
        "outputId": "7127aba8-33f8-4065-cc10-6264a3f25e7d"
      },
      "execution_count": 135,
      "outputs": [
        {
          "output_type": "stream",
          "name": "stdout",
          "text": [
            "45\n"
          ]
        }
      ]
    },
    {
      "cell_type": "code",
      "source": [],
      "metadata": {
        "id": "44XnlD-lGjje"
      },
      "execution_count": null,
      "outputs": []
    }
  ]
}