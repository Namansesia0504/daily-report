{
  "nbformat": 4,
  "nbformat_minor": 0,
  "metadata": {
    "colab": {
      "provenance": []
    },
    "kernelspec": {
      "name": "python3",
      "display_name": "Python 3"
    },
    "language_info": {
      "name": "python"
    }
  },
  "cells": [
    {
      "cell_type": "code",
      "execution_count": 2,
      "metadata": {
        "id": "SXO7lS8JLT-c"
      },
      "outputs": [],
      "source": [
        "#7. Error and Exception Handling\n",
        "#Understanding exceptions.\n",
        "#try, except, finally blocks.\n",
        "#Raising exceptions.\n",
        "#Custom exceptions.\n",
        "#oops remaining concepts"
      ]
    },
    {
      "cell_type": "code",
      "source": [
        "class Shape:\n",
        "    def draw(self):\n",
        "        raise NotImplementedError(\"Subclass must implement abstract method\")\n",
        "\n",
        "class rectangle(Shape):\n",
        "    def draw(self):\n",
        "        return \"Drawing a rectangle \"\n",
        "\n",
        "class Square(Shape):\n",
        "    def draw(self):\n",
        "        return \"Drawing a square\"\n",
        "\n",
        "shapes = [rectangle(), Square()]\n",
        "for shape in shapes:\n",
        "    print(shape.draw())"
      ],
      "metadata": {
        "colab": {
          "base_uri": "https://localhost:8080/"
        },
        "id": "OALMq3y3Lk-o",
        "outputId": "105201df-d497-4ace-8df5-dfb469ef8be9"
      },
      "execution_count": 5,
      "outputs": [
        {
          "output_type": "stream",
          "name": "stdout",
          "text": [
            "Drawing a rectangle \n",
            "Drawing a square\n"
          ]
        }
      ]
    },
    {
      "cell_type": "code",
      "source": [
        "\n",
        "\n",
        "def naman_division():\n",
        "    try:\n",
        "        num = float(input(\"Enter the numerator: \"))\n",
        "        den = float(input(\"Enter the denominator: \"))\n",
        "\n",
        "        result = num / den\n",
        "        print(f\"Result: {result}\")\n",
        "\n",
        "    except ZeroDivisionError:\n",
        "        print(\"Error: Division by zero is not allowed.\")\n",
        "    except ValueError:\n",
        "        print(\"Error: Please enter numeric values only.\")\n",
        "\n",
        "\n",
        "naman_division()\n"
      ],
      "metadata": {
        "colab": {
          "base_uri": "https://localhost:8080/"
        },
        "id": "FOv6PsGyxOMU",
        "outputId": "743219bf-cf84-4f44-ba65-0e5c4f3586eb"
      },
      "execution_count": 17,
      "outputs": [
        {
          "output_type": "stream",
          "name": "stdout",
          "text": [
            "Enter the numerator: 45 \n",
            "Enter the denominator: 57\n",
            "Result: 0.7894736842105263\n"
          ]
        }
      ]
    },
    {
      "cell_type": "code",
      "source": [
        "#Modify the following code to handle the exception properly:\n",
        "#numbers = [1, 2, 3]\n",
        "#print(numbers[5])\n",
        "\n",
        "numbers = [1,2,3]\n",
        "try:\n",
        "  print(numbers[2])\n",
        "except:\n",
        "  print (\"numbers not available \" )"
      ],
      "metadata": {
        "colab": {
          "base_uri": "https://localhost:8080/"
        },
        "id": "gvQ32Gz_44pn",
        "outputId": "da22ec89-3b4b-4759-902a-b5d9f264b410"
      },
      "execution_count": 22,
      "outputs": [
        {
          "output_type": "stream",
          "name": "stdout",
          "text": [
            "3\n"
          ]
        }
      ]
    },
    {
      "cell_type": "code",
      "source": [
        "\n",
        "#Write a program that takes input from the user and converts it to an integer.\n",
        "#Handle the exception if the user enters a non-numeric value.\n",
        "def integer():\n",
        "    try:\n",
        "        num = int(input(\"Enter an integer: \"))\n",
        "        print(f\"You entered: {num}\")\n",
        "    except ValueError:\n",
        "        print(\"Error: Please enter a valid integer.\")\n",
        "\n",
        "\n",
        "integer()\n",
        "\n"
      ],
      "metadata": {
        "colab": {
          "base_uri": "https://localhost:8080/"
        },
        "id": "6sAmYe03N3-R",
        "outputId": "880a70ed-a445-475d-d8db-3200a30f673e"
      },
      "execution_count": 43,
      "outputs": [
        {
          "output_type": "stream",
          "name": "stdout",
          "text": [
            "Enter an integer: 45\n",
            "You entered: 45\n"
          ]
        }
      ]
    },
    {
      "cell_type": "code",
      "source": [
        "\n",
        "class InvalidAgeError(Exception):\n",
        "    def __init__(self, age, msg=\"Age must be between 0 and 120\"):\n",
        "        self.age = age\n",
        "        self.msg = msg\n",
        "        super().__init__(self.msg)\n",
        "\n",
        "    def __str__(self):\n",
        "        return (f'{self.age} -> {self.msg}')\n",
        "\n",
        "def set_age(age):\n",
        "    if age < 0 or age > 120:\n",
        "        raise InvalidAgeError(age)\n",
        "    else:\n",
        "        print(\"Age set to: {age}\")\n",
        "\n",
        "\n",
        "try:\n",
        "    set_age(160)\n",
        "except InvalidAgeError as error:\n",
        "    print(error)\n",
        "\n",
        "\n"
      ],
      "metadata": {
        "colab": {
          "base_uri": "https://localhost:8080/"
        },
        "id": "7p3eeu60U6X5",
        "outputId": "f6138f4f-52a5-440e-a285-264665062480"
      },
      "execution_count": 42,
      "outputs": [
        {
          "output_type": "stream",
          "name": "stdout",
          "text": [
            "160 -> Age must be between 0 and 120\n"
          ]
        }
      ]
    },
    {
      "cell_type": "code",
      "source": [
        "\n",
        "def divide_numbers (a,b):\n",
        "  if not isinstance(a,(int,float)) or not isinstance(b,(int,float)):\n",
        "    raise TypeError(\"Both inputs must be numbers . \")\n",
        "    if b == 0:\n",
        "      raise ZeroDivisionError(\"cannot divide by zero\")\n",
        "      return a/b\n",
        "\n",
        "try:\n",
        "  num1 = float(input(\"Enter the numerator:\"))\n",
        "  num2 = float(input(\"Enter the denominator:\"))\n",
        "  result = divide_numbers(num1,num2)\n",
        "  print(f\"Result: {result}\")\n",
        "except ZeroDivisionError as e:\n",
        " print(f\"Error: {e}\")\n",
        " print(f\"Error: {e}\")\n",
        "except ValueError:\n",
        "    print(\"Error: Invalid input. Please enter numeric values.\")\n",
        "\n",
        "\n"
      ],
      "metadata": {
        "colab": {
          "base_uri": "https://localhost:8080/"
        },
        "id": "iGDwUsT-jHpn",
        "outputId": "346606cb-b5ac-47e1-e366-53333ba81899"
      },
      "execution_count": 52,
      "outputs": [
        {
          "output_type": "stream",
          "name": "stdout",
          "text": [
            "Enter the numerator:45\n",
            "Enter the denominator:4\n",
            "Result: None\n"
          ]
        }
      ]
    },
    {
      "cell_type": "code",
      "source": [
        "import threading\n",
        "\n",
        "def divide_numbers(a, b):\n",
        "    \"\"\"Function to perform division, handling exceptions per thread.\"\"\"\n",
        "    try:\n",
        "        result = a / b\n",
        "        print(f\"Result of {a} / {b} = {result}\")\n",
        "    except ZeroDivisionError:\n",
        "        print(f\"Error: Division by zero in thread {threading.current_thread().name}\")\n",
        "    except Exception as e:\n",
        "        print(f\"Unexpected error in thread {threading.current_thread().name}: {e}\")\n",
        "\n",
        "number_pairs = [(10, 2), (20, 0), (30, 5), ('a', 3), (40, 4)]\n",
        "\n",
        "\n",
        "threads = []\n",
        "for i, (num1, num2) in enumerate(number_pairs):\n",
        "    thread = threading.Thread(target=divide_numbers, args=(num1, num2), name=f\"Thread-{i+1}\")\n",
        "    threads.append(thread)\n",
        "    thread.start()\n",
        "\n",
        "\n",
        "for thread in threads:\n",
        "    thread.join()\n",
        "\n",
        "print(\"All threads have completed execution.\")\n"
      ],
      "metadata": {
        "colab": {
          "base_uri": "https://localhost:8080/"
        },
        "id": "Vm8eyuhVyztz",
        "outputId": "1df9f019-fb98-4036-f22c-5709ed5d18bb"
      },
      "execution_count": 54,
      "outputs": [
        {
          "output_type": "stream",
          "name": "stdout",
          "text": [
            "Result of 10 / 2 = 5.0\n",
            "Error: Division by zero in thread Thread-2\n",
            "Result of 30 / 5 = 6.0\n",
            "Unexpected error in thread Thread-4: unsupported operand type(s) for /: 'str' and 'int'\n",
            "Result of 40 / 4 = 10.0\n",
            "All threads have completed execution.\n"
          ]
        }
      ]
    },
    {
      "cell_type": "code",
      "source": [],
      "metadata": {
        "id": "Anmupj-Dz_JX"
      },
      "execution_count": null,
      "outputs": []
    }
  ]
}