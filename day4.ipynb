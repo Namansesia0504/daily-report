{
  "nbformat": 4,
  "nbformat_minor": 0,
  "metadata": {
    "colab": {
      "provenance": []
    },
    "kernelspec": {
      "name": "python3",
      "display_name": "Python 3"
    },
    "language_info": {
      "name": "python"
    }
  },
  "cells": [
    {
      "cell_type": "code",
      "execution_count": null,
      "metadata": {
        "id": "A0d83S7VA6IT"
      },
      "outputs": [],
      "source": [
        "#defining a function\n",
        "def my_function():\n",
        "  print(\"Hello from a function\")\n"
      ]
    },
    {
      "cell_type": "code",
      "source": [
        "#calling a function\n",
        "def my_function():\n",
        "  print(\"Hello from a function\")\n",
        "\n",
        "my_function()"
      ],
      "metadata": {
        "id": "-z7N-MVzRTSA"
      },
      "execution_count": null,
      "outputs": []
    },
    {
      "cell_type": "code",
      "source": [
        "# some more functions\n",
        "def is_prime(n):\n",
        "    if n in [2, 3]:\n",
        "        return True\n",
        "    if (n == 1) or (n % 2 == 0):\n",
        "        return False\n",
        "\n",
        "print(is_prime(1), is_prime(7))\n"
      ],
      "metadata": {
        "colab": {
          "base_uri": "https://localhost:8080/"
        },
        "id": "pN4lMjGDRZpc",
        "outputId": "5ec25042-7bfb-476b-d422-4181adec1fbe"
      },
      "execution_count": null,
      "outputs": [
        {
          "output_type": "stream",
          "name": "stdout",
          "text": [
            "False None\n"
          ]
        }
      ]
    },
    {
      "cell_type": "code",
      "source": [
        "# positional arguments\n",
        "\n",
        "def nameAge(name, age):\n",
        "    print(\"Hi, I am\", name)\n",
        "    print(\"My age is \", age)\n",
        "\n",
        "\n",
        "print(\"Case-1:\")\n",
        "nameAge(\"Suraj\", 27)\n",
        "\n",
        "print(\"Wrong case\") # wrong because we have given the order of age and name on wrong positions\n",
        "nameAge(21,\"Cheryl\")\n",
        "\n",
        "print(\"Case 2\")\n",
        "nameAge(\"Naman\",21)"
      ],
      "metadata": {
        "colab": {
          "base_uri": "https://localhost:8080/"
        },
        "id": "EHKOtrdiVLn3",
        "outputId": "9a33c520-d673-4ed6-98f5-343902dabd8f"
      },
      "execution_count": null,
      "outputs": [
        {
          "output_type": "stream",
          "name": "stdout",
          "text": [
            "Case-1:\n",
            "Hi, I am Suraj\n",
            "My age is  27\n",
            "Wrong case\n",
            "Hi, I am 21\n",
            "My age is  Cheryl\n",
            "Case 2\n",
            "Hi, I am Naman\n",
            "My age is  21\n"
          ]
        }
      ]
    },
    {
      "cell_type": "code",
      "source": [
        "def evenOdd(x):\n",
        "  if (x%2==0):\n",
        "    print(\"Even\")\n",
        "  else:\n",
        "      print(\"Odd\")\n",
        "\n",
        "evenOdd(12)\n",
        "evenOdd(3)"
      ],
      "metadata": {
        "colab": {
          "base_uri": "https://localhost:8080/"
        },
        "id": "zh7LnuZSYnJm",
        "outputId": "b0190584-e3b3-4c3e-d661-4208513963d2"
      },
      "execution_count": null,
      "outputs": [
        {
          "output_type": "stream",
          "name": "stdout",
          "text": [
            "Even\n",
            "Odd\n"
          ]
        }
      ]
    },
    {
      "cell_type": "code",
      "source": [
        "#function within function\n",
        "def f1():\n",
        "  name =(\"Naman\")\n",
        "  def f2():\n",
        "     print(name)\n",
        "\n",
        "  f2()\n",
        "f1()"
      ],
      "metadata": {
        "colab": {
          "base_uri": "https://localhost:8080/"
        },
        "id": "gIhGv6HgZ4hV",
        "outputId": "1cf2ccb1-64bb-4140-cf83-6df09ce62748"
      },
      "execution_count": null,
      "outputs": [
        {
          "output_type": "stream",
          "name": "stdout",
          "text": [
            "Naman\n"
          ]
        }
      ]
    },
    {
      "cell_type": "code",
      "source": [
        "#factorial using recursion\n",
        "def factorial(n):\n",
        "    if n == 0:\n",
        "        return 1\n",
        "    else:\n",
        "        return n * factorial(n - 1)\n",
        "\n",
        "print(factorial(7))\n"
      ],
      "metadata": {
        "colab": {
          "base_uri": "https://localhost:8080/"
        },
        "id": "cWCMi2e8gg7m",
        "outputId": "af20ab18-0fc6-481b-9f68-7919cd06fbc2"
      },
      "execution_count": null,
      "outputs": [
        {
          "output_type": "stream",
          "name": "stdout",
          "text": [
            "5040\n"
          ]
        }
      ]
    },
    {
      "cell_type": "code",
      "source": [
        "#How to change a global variable\n",
        "x = 5\n",
        "\n",
        "\n",
        "def change():\n",
        "\n",
        "\tglobal x\n",
        "\n",
        "\n",
        "\tx = x + 5\n",
        "\tprint(\"Value of x inside a function :\", x)\n",
        "\n",
        "\n",
        "change()\n",
        "print(\"Value of x outside a function :\", x)\n"
      ],
      "metadata": {
        "colab": {
          "base_uri": "https://localhost:8080/"
        },
        "id": "TkvquPMBibI3",
        "outputId": "27396365-4d3a-44de-8872-ed21e3775379"
      },
      "execution_count": null,
      "outputs": [
        {
          "output_type": "stream",
          "name": "stdout",
          "text": [
            "Value of x inside a function : 10\n",
            "Value of x outside a function : 10\n"
          ]
        }
      ]
    },
    {
      "cell_type": "code",
      "source": [
        "print(list(range(4,30,2)))"
      ],
      "metadata": {
        "colab": {
          "base_uri": "https://localhost:8080/"
        },
        "id": "HYxeveTnl1sF",
        "outputId": "bc7d7483-13bd-49ca-aded-7fe514231caa"
      },
      "execution_count": null,
      "outputs": [
        {
          "output_type": "stream",
          "name": "stdout",
          "text": [
            "[4, 6, 8, 10, 12, 14, 16, 18, 20, 22, 24, 26, 28]\n"
          ]
        }
      ]
    },
    {
      "cell_type": "code",
      "source": [
        "# Write a function find_max(*numbers) that takes any number of arguments and returns the maximum value.\n",
        "\n",
        "def find_max(*numbers):\n",
        "  if not numbers :\n",
        "     return  \"no number available\"\n",
        "     return max(numbers)\n",
        "\n",
        "print(find_max(3, 8, 2, 10, 5))\n",
        "print(find_max(1, 4, 7))\n",
        "print(find_max())\n",
        "\n"
      ],
      "metadata": {
        "colab": {
          "base_uri": "https://localhost:8080/"
        },
        "id": "eefca4NFrWUT",
        "outputId": "f09fc660-83fc-48b5-bd97-da08aaad0e20"
      },
      "execution_count": null,
      "outputs": [
        {
          "output_type": "stream",
          "name": "stdout",
          "text": [
            "None\n",
            "None\n",
            "no number available\n"
          ]
        }
      ]
    },
    {
      "cell_type": "code",
      "source": [
        "def find_max(*numbers):\n",
        "    if not numbers:\n",
        "        return \"No numbers provided\"\n",
        "    return max(numbers)\n",
        "\n",
        "# Example usage\n",
        "print(find_max(3, 8, 2, 10, 5))  # Output: 10\n",
        "print(find_max(1, 4, 7))         # Output: 7\n",
        "print(find_max())                # Output: No numbers provided\n"
      ],
      "metadata": {
        "colab": {
          "base_uri": "https://localhost:8080/"
        },
        "id": "V9x--SNZtNuU",
        "outputId": "3ab5c29d-f81e-4f33-ac44-e11615e48ebc"
      },
      "execution_count": null,
      "outputs": [
        {
          "output_type": "stream",
          "name": "stdout",
          "text": [
            "10\n",
            "7\n",
            "No numbers provided\n"
          ]
        }
      ]
    },
    {
      "cell_type": "code",
      "source": [
        "#oops\n",
        "#concept of class and object\n",
        "class student:\n",
        "  name = \"karan\"\n",
        "\n",
        "\n",
        "s1 = student()\n",
        "print(s1)\n",
        "print(s1.name)"
      ],
      "metadata": {
        "id": "8ovLkCZmtYDU",
        "colab": {
          "base_uri": "https://localhost:8080/"
        },
        "outputId": "b32fe3b1-095b-4d2a-c2f9-1b13e301a384"
      },
      "execution_count": 7,
      "outputs": [
        {
          "output_type": "stream",
          "name": "stdout",
          "text": [
            "<__main__.student object at 0x7bc81a9da1d0>\n",
            "karan\n"
          ]
        }
      ]
    },
    {
      "cell_type": "code",
      "source": [
        "class car:\n",
        "  color = \"blue\"\n",
        "\n",
        "\n",
        "car1 = car()\n",
        "print(car1.color)"
      ],
      "metadata": {
        "colab": {
          "base_uri": "https://localhost:8080/"
        },
        "id": "E51Qkrb1CMkV",
        "outputId": "0816a5a0-7981-468a-d071-5a87ceebc6a3"
      },
      "execution_count": 9,
      "outputs": [
        {
          "output_type": "stream",
          "name": "stdout",
          "text": [
            "blue\n"
          ]
        }
      ]
    },
    {
      "cell_type": "code",
      "source": [
        "from typing_extensions import Self\n",
        "class student:\n",
        "  def __init__(Self) :\n",
        "    print(\"adding new data database\")\n",
        "  name = \"karan\"\n",
        "\n",
        "\n",
        "s1 = student()\n",
        "print(s1)\n",
        "print(s1.name)"
      ],
      "metadata": {
        "colab": {
          "base_uri": "https://localhost:8080/"
        },
        "id": "JxaMe1EhC7j6",
        "outputId": "c3e57ebd-74c5-4163-9fdd-de962bb3697b"
      },
      "execution_count": 12,
      "outputs": [
        {
          "output_type": "stream",
          "name": "stdout",
          "text": [
            "adding new data database\n",
            "<__main__.student object at 0x7bc7e3cc9b10>\n",
            "karan\n"
          ]
        }
      ]
    },
    {
      "cell_type": "code",
      "source": [
        "class student:\n",
        "  def __init__(self,name,marks):\n",
        "    self.name = name\n",
        "    self.marks = marks\n",
        "\n",
        "  def get_avg(self):\n",
        "    sum = 0\n",
        "    for val in self.marks :\n",
        "      sum+= val\n",
        "    print (\"Hi\",self.name,\"your avg marks are\",sum/3)\n",
        "\n",
        "s1 = student(\"naman\",[10.5,50.89,45.45])\n",
        "s1.get_avg()"
      ],
      "metadata": {
        "colab": {
          "base_uri": "https://localhost:8080/"
        },
        "id": "CXQ-OKtAF_Rr",
        "outputId": "07b1b344-5b6f-4a8e-8562-afbda40fb66a"
      },
      "execution_count": 18,
      "outputs": [
        {
          "output_type": "stream",
          "name": "stdout",
          "text": [
            "Hi naman your avg marks are 35.61333333333334\n"
          ]
        }
      ]
    },
    {
      "source": [
        "class account:\n",
        "  def __init__(self, bal, acc):\n",
        "    self.balance = bal\n",
        "    self.account_no = acc\n",
        "\n",
        "  def debit(self, amount):\n",
        "    self.balance -= amount\n",
        "    print(\"Rs.\", amount, \"was debited \")\n",
        "    print(\"your balance is Rs.\", self.balance)\n",
        "\n",
        "  def credit(self, amount):\n",
        "    self.balance += amount\n",
        "    print(\"Rs.\", amount, \"was credited \")\n",
        "    print(\"your balance is Rs.\", self.balance)\n",
        "\n",
        "  def get_balance(self):\n",
        "    print(\"your balance is Rs.\", self.balance)\n",
        "\n",
        "acc1 = account(10000, 12345)\n",
        "acc1.debit(1000)\n",
        "acc1.credit(2000)\n",
        "acc1.credit(20000)\n",
        "acc1.get_balance()"
      ],
      "cell_type": "code",
      "metadata": {
        "colab": {
          "base_uri": "https://localhost:8080/"
        },
        "id": "Tdm7T__COrKy",
        "outputId": "b9fbb284-d73f-4ae4-92f2-18c3200ed306"
      },
      "execution_count": 24,
      "outputs": [
        {
          "output_type": "stream",
          "name": "stdout",
          "text": [
            "Rs. 1000 was debited \n",
            "your balance is Rs. 9000\n",
            "Rs. 2000 was credited \n",
            "your balance is Rs. 11000\n",
            "Rs. 20000 was credited \n",
            "your balance is Rs. 31000\n",
            "your balance is Rs. 31000\n"
          ]
        }
      ]
    },
    {
      "cell_type": "code",
      "source": [
        "#Create a Vehicle class with brand and speed.\n",
        "#Inherit Car and Bike from Vehicle and add specific attributes\n",
        "\n",
        "class Vehicle:\n",
        "    def __init__(self, brand, speed):\n",
        "        self.brand = brand\n",
        "        self.speed = speed\n",
        "\n",
        "    def display_info(self):\n",
        "        print(f\"Brand: {self.brand}, Speed: {self.speed} km/h\")\n",
        "\n",
        "class Car(Vehicle):\n",
        "    def __init__(self, brand, speed, fuel_type):\n",
        "        super().__init__(brand, speed)\n",
        "        self.fuel_type = fuel_type\n",
        "\n",
        "    def display_info(self):\n",
        "        super().display_info()\n",
        "        print(\"Fuel Type: {self.fuel_type}\")\n",
        "\n",
        "class Bike(Vehicle):\n",
        "    def __init__(self, brand, speed, type_of_bike):\n",
        "        super().__init__(brand, speed)\n",
        "        self.type_of_bike = type_of_bike\n",
        "\n",
        "    def display_info(self):\n",
        "        super().display_info()\n",
        "        print(\"Type of Bike: {self.type_of_bike}\")\n",
        "\n",
        "car1 = Car(\"Tata\", 220, \"Petrol\")\n",
        "bike1 = Bike(\"Royal enfield\", 100, \"show bike\")\n",
        "\n",
        "print(\"Car Details:\")\n",
        "car1.display_info()\n",
        "print(\"\\nBike Details:\")\n",
        "bike1.display_info()\n"
      ],
      "metadata": {
        "colab": {
          "base_uri": "https://localhost:8080/"
        },
        "id": "aFVhyn9WPCIS",
        "outputId": "89cc513c-7657-4a48-c230-b1df8f472655"
      },
      "execution_count": 29,
      "outputs": [
        {
          "output_type": "stream",
          "name": "stdout",
          "text": [
            "Car Details:\n",
            "Brand: Tata, Speed: 220 km/h\n",
            "Fuel Type: {self.fuel_type}\n",
            "\n",
            "Bike Details:\n",
            "Brand: Royal enfield, Speed: 100 km/h\n",
            "Type of Bike: {self.type_of_bike}\n"
          ]
        }
      ]
    },
    {
      "cell_type": "code",
      "source": [
        "class car :\n",
        "  color = \"black\"\n",
        "  @staticmethod\n",
        "  def start():\n",
        "    print(\"car started..\")\n",
        "\n",
        "  @staticmethod\n",
        "  def stop():\n",
        "    print(\"car stopped.\")\n",
        "\n",
        "\n",
        "class Toyotacar(car):\n",
        "  def __init__(self,name):\n",
        "    self.name = name\n",
        "\n",
        "\n",
        "\n",
        "\n",
        "car1 = Toyotacar(\"fortuner\")\n",
        "car2 = Toyotacar(\"virtus\")\n",
        "\n",
        "print(car1.color)\n",
        "print(car1.stop())"
      ],
      "metadata": {
        "colab": {
          "base_uri": "https://localhost:8080/"
        },
        "id": "-er-YcDvnJsU",
        "outputId": "a19178b5-b3a4-47ae-d341-b2b12f23d229"
      },
      "execution_count": 38,
      "outputs": [
        {
          "output_type": "stream",
          "name": "stdout",
          "text": [
            "black\n",
            "car stopped.\n",
            "None\n"
          ]
        }
      ]
    },
    {
      "cell_type": "code",
      "source": [
        "#Multi level inheritance\n",
        "class car :\n",
        "  color = \"black\"\n",
        "  @staticmethod\n",
        "  def start():\n",
        "    print(\"car started..\")\n",
        "\n",
        "  @staticmethod\n",
        "  def stop():\n",
        "    print(\"car stopped.\")\n",
        "\n",
        "\n",
        "class Toyotacar(car):\n",
        "  def __init__(self,brand):\n",
        "    self.brand = brand\n",
        "\n",
        "class fortuner(Toyotacar):\n",
        "  def __init__(self,type):\n",
        "    self.type=type\n",
        "\n",
        "\n",
        "\n",
        "\n",
        "\n",
        "car1 = fortuner(\"diesel\")\n",
        "car1.start()\n",
        "\n",
        "\n",
        "\n"
      ],
      "metadata": {
        "colab": {
          "base_uri": "https://localhost:8080/"
        },
        "id": "O-3oHr22rrin",
        "outputId": "b0d83e95-19ea-46dd-ed36-8fadd13b9854"
      },
      "execution_count": 46,
      "outputs": [
        {
          "output_type": "stream",
          "name": "stdout",
          "text": [
            "car started..\n"
          ]
        }
      ]
    }
  ]
}