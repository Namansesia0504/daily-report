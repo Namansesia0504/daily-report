{
  "nbformat": 4,
  "nbformat_minor": 0,
  "metadata": {
    "colab": {
      "provenance": []
    },
    "kernelspec": {
      "name": "python3",
      "display_name": "Python 3"
    },
    "language_info": {
      "name": "python"
    }
  },
  "cells": [
    {
      "cell_type": "code",
      "execution_count": null,
      "metadata": {
        "colab": {
          "base_uri": "https://localhost:8080/"
        },
        "id": "06AplF4-dGTy",
        "outputId": "4e4a0e5b-a347-4b19-c8de-c1faa0b708a6"
      },
      "outputs": [
        {
          "output_type": "stream",
          "name": "stdout",
          "text": [
            "Linux\n"
          ]
        }
      ],
      "source": [
        "import platform\n",
        "\n",
        "x = platform.system()\n",
        "print(x)"
      ]
    },
    {
      "cell_type": "code",
      "source": [
        "import platform\n",
        "x = dir(platform)\n",
        "print(x)"
      ],
      "metadata": {
        "colab": {
          "base_uri": "https://localhost:8080/"
        },
        "id": "D7TKgAxFvc0b",
        "outputId": "813fbc8e-ae7f-4c61-c7fa-bbf306aad3fb"
      },
      "execution_count": null,
      "outputs": [
        {
          "output_type": "stream",
          "name": "stdout",
          "text": [
            "['_Processor', '_WIN32_CLIENT_RELEASES', '_WIN32_SERVER_RELEASES', '__builtins__', '__cached__', '__copyright__', '__doc__', '__file__', '__loader__', '__name__', '__package__', '__spec__', '__version__', '_comparable_version', '_component_re', '_default_architecture', '_follow_symlinks', '_get_machine_win32', '_ironpython26_sys_version_parser', '_ironpython_sys_version_parser', '_java_getprop', '_libc_search', '_mac_ver_xml', '_node', '_norm_version', '_os_release_cache', '_os_release_candidates', '_os_release_line', '_os_release_unescape', '_parse_os_release', '_platform', '_platform_cache', '_pypy_sys_version_parser', '_sys_version', '_sys_version_cache', '_sys_version_parser', '_syscmd_file', '_syscmd_ver', '_uname_cache', '_unknown_as_blank', '_ver_output', '_ver_stages', 'architecture', 'collections', 'freedesktop_os_release', 'functools', 'itertools', 'java_ver', 'libc_ver', 'mac_ver', 'machine', 'node', 'os', 'platform', 'processor', 'python_branch', 'python_build', 'python_compiler', 'python_implementation', 'python_revision', 'python_version', 'python_version_tuple', 're', 'release', 'sys', 'system', 'system_alias', 'uname', 'uname_result', 'version', 'win32_edition', 'win32_is_iot', 'win32_ver']\n"
          ]
        }
      ]
    },
    {
      "cell_type": "code",
      "source": [
        "import datetime\n",
        "x = datetime.datetime.now()\n",
        "print (x)"
      ],
      "metadata": {
        "colab": {
          "base_uri": "https://localhost:8080/"
        },
        "id": "XoOWavN7vsBw",
        "outputId": "23553961-572e-4ecf-ce7e-fe02df61f95d"
      },
      "execution_count": null,
      "outputs": [
        {
          "output_type": "stream",
          "name": "stdout",
          "text": [
            "2025-02-13 05:21:44.108180\n"
          ]
        }
      ]
    },
    {
      "cell_type": "code",
      "source": [
        "import datetime\n",
        "x = datetime.datetime.now()\n",
        "print(x.year)\n",
        "print(x.strftime(\"%A\")) #this is used to convert the day in str format"
      ],
      "metadata": {
        "colab": {
          "base_uri": "https://localhost:8080/"
        },
        "id": "5TL-LX1owM6p",
        "outputId": "2a49a067-98af-4470-d033-e6f7e15a8723"
      },
      "execution_count": null,
      "outputs": [
        {
          "output_type": "stream",
          "name": "stdout",
          "text": [
            "2025\n",
            "Thursday\n"
          ]
        }
      ]
    },
    {
      "cell_type": "code",
      "source": [
        "import datetime\n",
        "x = datetime.datetime(2020,6,23)\n",
        "print(x)"
      ],
      "metadata": {
        "colab": {
          "base_uri": "https://localhost:8080/"
        },
        "id": "jKhRCrv1wxLA",
        "outputId": "cf11ed54-04b2-4c58-df9e-4fb506802bac"
      },
      "execution_count": null,
      "outputs": [
        {
          "output_type": "stream",
          "name": "stdout",
          "text": [
            "2020-06-23 00:00:00\n"
          ]
        }
      ]
    },
    {
      "cell_type": "code",
      "source": [
        "import datetime\n",
        "\n",
        "x = datetime.datetime(2025,6,1)\n",
        "print(x)\n",
        "print(x.strftime(\"%B\"))"
      ],
      "metadata": {
        "colab": {
          "base_uri": "https://localhost:8080/"
        },
        "id": "VFa2hHWryB1w",
        "outputId": "8cfe7177-666b-408e-e73f-2207892cb6df"
      },
      "execution_count": null,
      "outputs": [
        {
          "output_type": "stream",
          "name": "stdout",
          "text": [
            "2025-06-01 00:00:00\n",
            "June\n"
          ]
        }
      ]
    },
    {
      "cell_type": "code",
      "source": [
        "x = min (23,45,67)\n",
        "y = max (23,45,67)\n",
        "print(x,y)\n"
      ],
      "metadata": {
        "colab": {
          "base_uri": "https://localhost:8080/"
        },
        "id": "lyNEh8kDyUcT",
        "outputId": "e77323dd-12f4-4592-8a56-b0eb52b60d49"
      },
      "execution_count": null,
      "outputs": [
        {
          "output_type": "stream",
          "name": "stdout",
          "text": [
            "23 67\n"
          ]
        }
      ]
    },
    {
      "cell_type": "code",
      "source": [
        "import math\n",
        "x = math.sqrt(64)\n",
        "y = math.pi\n",
        "z = math.ceil(7.2)\n",
        "w = math.floor(3.9)\n",
        "\n",
        "print (x,y,z,w)"
      ],
      "metadata": {
        "colab": {
          "base_uri": "https://localhost:8080/"
        },
        "id": "KqBNHMU6zxYJ",
        "outputId": "64b65990-9e8b-46d8-ba27-d046accd30e3"
      },
      "execution_count": null,
      "outputs": [
        {
          "output_type": "stream",
          "name": "stdout",
          "text": [
            "8.0 3.141592653589793 8 3\n"
          ]
        }
      ]
    },
    {
      "cell_type": "code",
      "source": [
        "import os\n",
        "cwd = os.getcwd()\n",
        "print(cwd)"
      ],
      "metadata": {
        "colab": {
          "base_uri": "https://localhost:8080/"
        },
        "id": "le2lFN2m0zHm",
        "outputId": "92c61dda-1f35-4b25-d570-868d64fe1757"
      },
      "execution_count": null,
      "outputs": [
        {
          "output_type": "stream",
          "name": "stdout",
          "text": [
            "/content\n"
          ]
        }
      ]
    },
    {
      "cell_type": "code",
      "source": [
        "import random\n",
        "list1 = [1, 2, 3, 4, 5, 6]\n",
        "print(random.choice(list1))\n"
      ],
      "metadata": {
        "colab": {
          "base_uri": "https://localhost:8080/"
        },
        "id": "6AI63luxswPU",
        "outputId": "4221657e-6e3b-47b7-d597-4ff20d5cbefe"
      },
      "execution_count": null,
      "outputs": [
        {
          "output_type": "stream",
          "name": "stdout",
          "text": [
            "1\n"
          ]
        }
      ]
    },
    {
      "cell_type": "code",
      "source": [
        "import random\n",
        "random.seed(5)\n",
        "print(random.random())"
      ],
      "metadata": {
        "colab": {
          "base_uri": "https://localhost:8080/"
        },
        "id": "lPi4tYYzt783",
        "outputId": "c1bdede4-beff-424e-8246-42e0a11e2e13"
      },
      "execution_count": null,
      "outputs": [
        {
          "output_type": "stream",
          "name": "stdout",
          "text": [
            "0.6229016948897019\n"
          ]
        }
      ]
    },
    {
      "cell_type": "code",
      "source": [
        "import random\n",
        "r1 = random.randint(5, 15)from random import sample\n",
        "list1 = [1, 2, 3, 4, 5]\n",
        "\n",
        "print(sample(list1,3))\n",
        "list2 = (4, 5, 6, 7, 8)\n",
        "\n",
        "print(sample(list2,3))\n",
        "list3 = \"45678\"\n",
        "print( (r1))\n",
        "r2 = random.randint(-10, -2)\n",
        "print( (r2))\n"
      ],
      "metadata": {
        "colab": {
          "base_uri": "https://localhost:8080/"
        },
        "id": "_g-gJaN3u3FD",
        "outputId": "8aa4900c-7266-41c2-cc2e-0cbc4da8262b"
      },
      "execution_count": null,
      "outputs": [
        {
          "output_type": "stream",
          "name": "stdout",
          "text": [
            "5\n",
            "-3\n"
          ]
        }
      ]
    },
    {
      "cell_type": "code",
      "source": [
        "sample_list=[12,23,34,45]\n",
        "\n",
        "print(sample_list)\n",
        "random.shuffle(sample_list)\n",
        "print(sample_list)\n",
        "random.shuffle(sample_list)\n",
        "print(sample_list)\n"
      ],
      "metadata": {
        "colab": {
          "base_uri": "https://localhost:8080/"
        },
        "id": "mwc40dfqu_kq",
        "outputId": "5e9be805-19a4-45b6-b53c-7147c2915fd2"
      },
      "execution_count": 9,
      "outputs": [
        {
          "output_type": "stream",
          "name": "stdout",
          "text": [
            "[12, 23, 34, 45]\n",
            "[34, 12, 23, 45]\n",
            "[12, 23, 34, 45]\n"
          ]
        }
      ]
    },
    {
      "cell_type": "code",
      "source": [
        "import os\n",
        "\n",
        "def list_txt_files(folder_path):\n",
        "    try:\n",
        "        txt_files = [f for f in os.listdir(folder_path) if f.endswith('.txt')]\n",
        "        if txt_files:\n",
        "            print(\"Text files found:\")\n",
        "            for file in txt_files:\n",
        "                print(file)\n",
        "        else:\n",
        "            print(\"No .txt files found in the specified folder.\")\n",
        "    except FileNotFoundError:\n",
        "        print(\"Error: The specified folder does not exist.\")\n"
      ],
      "metadata": {
        "id": "VZOrKusMwJlv"
      },
      "execution_count": null,
      "outputs": []
    },
    {
      "cell_type": "code",
      "source": [
        "import os\n",
        "cwd = os.getcwd()\n",
        "print(cwd)"
      ],
      "metadata": {
        "id": "rmGsDRCGyGlP",
        "colab": {
          "base_uri": "https://localhost:8080/"
        },
        "outputId": "9f74945c-841b-433e-b037-a864cbaa97ea"
      },
      "execution_count": 8,
      "outputs": [
        {
          "output_type": "stream",
          "name": "stdout",
          "text": [
            "/content\n"
          ]
        }
      ]
    },
    {
      "cell_type": "code",
      "source": [],
      "metadata": {
        "id": "URLNvx7m7z8c"
      },
      "execution_count": null,
      "outputs": []
    }
  ]
}